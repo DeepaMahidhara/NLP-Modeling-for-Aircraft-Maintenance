{
 "cells": [
  {
   "cell_type": "markdown",
   "metadata": {},
   "source": [
    "### Prep Work"
   ]
  },
  {
   "cell_type": "code",
   "execution_count": 1,
   "metadata": {},
   "outputs": [],
   "source": [
    "# Import general libraries\n",
    "import pandas as pd\n",
    "import numpy as np\n",
    "\n",
    "import datetime\n",
    "import warnings; warnings.simplefilter('ignore')\n",
    "\n",
    "np.random.seed(42)"
   ]
  },
  {
   "cell_type": "code",
   "execution_count": 2,
   "metadata": {},
   "outputs": [],
   "source": [
    "# Increase size of dataframe\n",
    "pd.set_option('display.max_columns', 1000)\n",
    "pd.set_option('display.max_rows', 100000)\n",
    "pd.set_option('display.width', 1000)"
   ]
  },
  {
   "cell_type": "markdown",
   "metadata": {},
   "source": [
    "### Read maintenance data files"
   ]
  },
  {
   "cell_type": "code",
   "execution_count": 3,
   "metadata": {},
   "outputs": [],
   "source": [
    "# Read historical maintenance data for 2015 and 2016\n",
    "col_names = ['fleet', 'ac_serial_num', 'ata4_code', 'log_page_ptt_seq', 'flight_number',\n",
    "             'delay_type', 'corrective_action', 'delay_code', 'date_reported',\n",
    "             'station_delay_minutes', 'return_code', 'return_type_code', 'engine_pos',\n",
    "             'problem_log', 'd&c_category', 'resolved_ata2_code', 'arrival_station',\n",
    "             'lt_code', 'lt_minutes', 'ref_number', 'month_name', 'month_year', 'depature_station']\n",
    "data1 = pd.read_excel('./data/Ds&Cs2015.xlsx', names = col_names)\n",
    "data2 = pd.read_excel('./data/2016Ds&Cs.xlsx', names = col_names)"
   ]
  },
  {
   "cell_type": "code",
   "execution_count": 4,
   "metadata": {
    "scrolled": true
   },
   "outputs": [
    {
     "name": "stdout",
     "output_type": "stream",
     "text": [
      "data: (76437, 23)\n"
     ]
    },
    {
     "data": {
      "text/html": [
       "<div>\n",
       "<style scoped>\n",
       "    .dataframe tbody tr th:only-of-type {\n",
       "        vertical-align: middle;\n",
       "    }\n",
       "\n",
       "    .dataframe tbody tr th {\n",
       "        vertical-align: top;\n",
       "    }\n",
       "\n",
       "    .dataframe thead th {\n",
       "        text-align: right;\n",
       "    }\n",
       "</style>\n",
       "<table border=\"1\" class=\"dataframe\">\n",
       "  <thead>\n",
       "    <tr style=\"text-align: right;\">\n",
       "      <th></th>\n",
       "      <th>fleet</th>\n",
       "      <th>ac_serial_num</th>\n",
       "      <th>ata4_code</th>\n",
       "      <th>log_page_ptt_seq</th>\n",
       "      <th>flight_number</th>\n",
       "      <th>delay_type</th>\n",
       "      <th>corrective_action</th>\n",
       "      <th>delay_code</th>\n",
       "      <th>date_reported</th>\n",
       "      <th>station_delay_minutes</th>\n",
       "      <th>return_code</th>\n",
       "      <th>return_type_code</th>\n",
       "      <th>engine_pos</th>\n",
       "      <th>problem_log</th>\n",
       "      <th>d&amp;c_category</th>\n",
       "      <th>resolved_ata2_code</th>\n",
       "      <th>arrival_station</th>\n",
       "      <th>lt_code</th>\n",
       "      <th>lt_minutes</th>\n",
       "      <th>ref_number</th>\n",
       "      <th>month_name</th>\n",
       "      <th>month_year</th>\n",
       "      <th>depature_station</th>\n",
       "    </tr>\n",
       "  </thead>\n",
       "  <tbody>\n",
       "    <tr>\n",
       "      <th>0</th>\n",
       "      <td>A319-131</td>\n",
       "      <td>4001</td>\n",
       "      <td>0</td>\n",
       "      <td>NaN</td>\n",
       "      <td>278</td>\n",
       "      <td>NaN</td>\n",
       "      <td>NaN</td>\n",
       "      <td>TA</td>\n",
       "      <td>2015-01-27</td>\n",
       "      <td>46</td>\n",
       "      <td>NaN</td>\n",
       "      <td>0</td>\n",
       "      <td>NaN</td>\n",
       "      <td>NaN</td>\n",
       "      <td>Delay&gt;15mins</td>\n",
       "      <td>0</td>\n",
       "      <td>MDT</td>\n",
       "      <td>NaN</td>\n",
       "      <td>0.0</td>\n",
       "      <td>NaN</td>\n",
       "      <td>JAN</td>\n",
       "      <td>2015-01-27</td>\n",
       "      <td>ORD</td>\n",
       "    </tr>\n",
       "    <tr>\n",
       "      <th>1</th>\n",
       "      <td>A319-131</td>\n",
       "      <td>4001</td>\n",
       "      <td>0</td>\n",
       "      <td>NaN</td>\n",
       "      <td>311</td>\n",
       "      <td>NaN</td>\n",
       "      <td>NaN</td>\n",
       "      <td>TA</td>\n",
       "      <td>2015-01-04</td>\n",
       "      <td>59</td>\n",
       "      <td>NaN</td>\n",
       "      <td>0</td>\n",
       "      <td>NaN</td>\n",
       "      <td>NaN</td>\n",
       "      <td>Delay&gt;15mins</td>\n",
       "      <td>0</td>\n",
       "      <td>DEN</td>\n",
       "      <td>LT</td>\n",
       "      <td>183.0</td>\n",
       "      <td>NaN</td>\n",
       "      <td>JAN</td>\n",
       "      <td>2015-01-04</td>\n",
       "      <td>EWR</td>\n",
       "    </tr>\n",
       "    <tr>\n",
       "      <th>2</th>\n",
       "      <td>A319-131</td>\n",
       "      <td>4001</td>\n",
       "      <td>0</td>\n",
       "      <td>NaN</td>\n",
       "      <td>317</td>\n",
       "      <td>NaN</td>\n",
       "      <td>NaN</td>\n",
       "      <td>TA</td>\n",
       "      <td>2015-02-10</td>\n",
       "      <td>14</td>\n",
       "      <td>NaN</td>\n",
       "      <td>0</td>\n",
       "      <td>NaN</td>\n",
       "      <td>NaN</td>\n",
       "      <td>Delay 6-15mins</td>\n",
       "      <td>0</td>\n",
       "      <td>IND</td>\n",
       "      <td>NaN</td>\n",
       "      <td>0.0</td>\n",
       "      <td>NaN</td>\n",
       "      <td>FEB</td>\n",
       "      <td>2015-02-10</td>\n",
       "      <td>SFO</td>\n",
       "    </tr>\n",
       "  </tbody>\n",
       "</table>\n",
       "</div>"
      ],
      "text/plain": [
       "      fleet  ac_serial_num  ata4_code  log_page_ptt_seq  flight_number delay_type corrective_action delay_code date_reported  station_delay_minutes return_code return_type_code  engine_pos problem_log    d&c_category  resolved_ata2_code arrival_station lt_code  lt_minutes ref_number month_name month_year depature_station\n",
       "0  A319-131           4001          0               NaN            278        NaN               NaN         TA    2015-01-27                     46         NaN                0         NaN         NaN    Delay>15mins                   0             MDT     NaN         0.0        NaN        JAN 2015-01-27              ORD\n",
       "1  A319-131           4001          0               NaN            311        NaN               NaN         TA    2015-01-04                     59         NaN                0         NaN         NaN    Delay>15mins                   0             DEN      LT       183.0        NaN        JAN 2015-01-04              EWR\n",
       "2  A319-131           4001          0               NaN            317        NaN               NaN         TA    2015-02-10                     14         NaN                0         NaN         NaN  Delay 6-15mins                   0             IND     NaN         0.0        NaN        FEB 2015-02-10              SFO"
      ]
     },
     "execution_count": 4,
     "metadata": {},
     "output_type": "execute_result"
    }
   ],
   "source": [
    "# Append the datasets for the 2 years\n",
    "data = data1.append(data2)\n",
    "\n",
    "# Print the shape of the combined dataset\n",
    "print(f'data: {data.shape}')\n",
    "\n",
    "# See what the data looks like\n",
    "data.head(3)"
   ]
  },
  {
   "cell_type": "markdown",
   "metadata": {},
   "source": [
    "### Clean data"
   ]
  },
  {
   "cell_type": "code",
   "execution_count": 6,
   "metadata": {},
   "outputs": [],
   "source": [
    "# Drop unnecessary columns\n",
    "data.drop(columns = ['ac_serial_num', 'log_page_ptt_seq','flight_number','delay_type',\n",
    "                     'date_reported','return_code','return_type_code', 'engine_pos',\n",
    "                     'resolved_ata2_code','arrival_station', 'lt_code', 'lt_minutes', \n",
    "                     'ref_number', 'month_name', 'month_year', 'depature_station'], inplace = True)  "
   ]
  },
  {
   "cell_type": "code",
   "execution_count": 7,
   "metadata": {},
   "outputs": [],
   "source": [
    "# Reorder the columns\n",
    "data = data[['fleet','problem_log', 'corrective_action','delay_code',\n",
    "             'station_delay_minutes', 'd&c_category','ata4_code']]"
   ]
  },
  {
   "cell_type": "code",
   "execution_count": 8,
   "metadata": {},
   "outputs": [],
   "source": [
    "# ATA code should be an object with leading zeros\n",
    "data['ata4_code'] = data['ata4_code'].astype(str).map(lambda x: x.zfill(4))"
   ]
  },
  {
   "cell_type": "code",
   "execution_count": 9,
   "metadata": {},
   "outputs": [],
   "source": [
    "# Drop the rows with null values in corrective_action and problem_log\n",
    "data.dropna(subset=['corrective_action', 'problem_log'], inplace=True) "
   ]
  },
  {
   "cell_type": "markdown",
   "metadata": {},
   "source": [
    "### Save full dataset before subsetting it - merge with ATA dictionary created from ATA Wikipedia"
   ]
  },
  {
   "cell_type": "code",
   "execution_count": 10,
   "metadata": {},
   "outputs": [],
   "source": [
    "# Read ATA2 code descriptions from ATA Wikipedia and create dictionary\n",
    "ata_all_codes = pd.read_csv('./data/ata_all_codes.csv',names=['ata4_code','ata4_desc'],\n",
    "                    header=None).set_index('ata4_code')\n",
    "\n",
    "ata_all_dict = ata_all_codes.to_dict()['ata4_desc']\n",
    "\n",
    "# Map data to ata dictionary\n",
    "data['ata4_desc'] = data['ata4_code'].astype(int).map(ata_all_dict)\n",
    "\n",
    "# Drop the rows with null values in ata4_desc\n",
    "data.dropna(subset=['ata4_desc'], inplace=True) \n",
    "\n",
    "# Save the full data file - all ATA codes\n",
    "data.to_csv('./data/data_ata_all.csv')"
   ]
  },
  {
   "cell_type": "markdown",
   "metadata": {},
   "source": [
    "### Create a dataset for ATA25 data - merge it with ATA25 data provided by the airline"
   ]
  },
  {
   "cell_type": "code",
   "execution_count": 11,
   "metadata": {
    "scrolled": true
   },
   "outputs": [],
   "source": [
    "# Select rows with ata2 code = 25+\n",
    "data = data[data['ata4_code'].map(lambda x: x[:2] == '25')]\n",
    "\n",
    "# Read ATA25 code descriptions from airline file and create dictionary\n",
    "ata25_codes = pd.read_csv('./data/ata25_codes.csv',names=['ata4_code','ata4_desc'],\n",
    "                    header=None).set_index('ata4_code')\n",
    "\n",
    "ata25_dict = ata25_codes.to_dict()['ata4_desc']\n",
    "\n",
    "# Map maintenance data to ATA25 dictionary\n",
    "data['ata4_desc'] = data['ata4_code'].astype(int).map(ata25_dict)\n",
    "\n",
    "# Drop the rows with null values in ata4_desc\n",
    "data.dropna(subset=['ata4_desc'], inplace=True) \n",
    "\n",
    "# Save the ATA25 data file \n",
    "data.to_csv('./data/data_ata25.csv')"
   ]
  }
 ],
 "metadata": {
  "kernelspec": {
   "display_name": "Python 3",
   "language": "python",
   "name": "python3"
  },
  "language_info": {
   "codemirror_mode": {
    "name": "ipython",
    "version": 3
   },
   "file_extension": ".py",
   "mimetype": "text/x-python",
   "name": "python",
   "nbconvert_exporter": "python",
   "pygments_lexer": "ipython3",
   "version": "3.7.1"
  }
 },
 "nbformat": 4,
 "nbformat_minor": 2
}
