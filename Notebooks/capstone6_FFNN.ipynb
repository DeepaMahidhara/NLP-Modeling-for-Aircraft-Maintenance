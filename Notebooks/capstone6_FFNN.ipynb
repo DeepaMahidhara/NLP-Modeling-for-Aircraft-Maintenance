{
 "cells": [
  {
   "cell_type": "markdown",
   "metadata": {},
   "source": [
    "### Prep Work"
   ]
  },
  {
   "cell_type": "code",
   "execution_count": 1,
   "metadata": {},
   "outputs": [],
   "source": [
    "# Import general libraries\n",
    "import pandas as pd\n",
    "import numpy as np\n",
    "\n",
    "import datetime\n",
    "import warnings; warnings.simplefilter('ignore')\n",
    "\n",
    "np.random.seed(42)"
   ]
  },
  {
   "cell_type": "code",
   "execution_count": 2,
   "metadata": {},
   "outputs": [],
   "source": [
    "# Import Model libraries\n",
    "from sklearn.linear_model import LogisticRegression\n",
    "from sklearn.preprocessing import StandardScaler\n",
    "from sklearn.model_selection import train_test_split, GridSearchCV, cross_val_score\n",
    "from sklearn.pipeline import Pipeline\n",
    "from sklearn.ensemble import RandomForestClassifier\n",
    "from sklearn.metrics import confusion_matrix, accuracy_score, roc_auc_score\n",
    "\n",
    "import collections, numpy"
   ]
  },
  {
   "cell_type": "code",
   "execution_count": 3,
   "metadata": {},
   "outputs": [
    {
     "name": "stderr",
     "output_type": "stream",
     "text": [
      "Using TensorFlow backend.\n"
     ]
    }
   ],
   "source": [
    "# Import Keras libraries\n",
    "import keras as ks\n",
    "from keras.models import Sequential\n",
    "from keras.layers import Dense, Dropout, Activation, Flatten \n",
    "from keras.layers import Conv2D, MaxPooling2D\n",
    "from keras.utils import np_utils, to_categorical\n",
    "from keras import regularizers\n",
    "\n",
    "import os\n",
    "os.environ['KMP_DUPLICATE_LIB_OK']='True'"
   ]
  },
  {
   "cell_type": "code",
   "execution_count": 4,
   "metadata": {},
   "outputs": [],
   "source": [
    "# Import Plotting libraries\n",
    "import seaborn as sns\n",
    "import matplotlib.pyplot as plt \n",
    "%matplotlib inline"
   ]
  },
  {
   "cell_type": "code",
   "execution_count": 5,
   "metadata": {},
   "outputs": [],
   "source": [
    "# Increase size of dataframe\n",
    "pd.set_option('display.max_columns', 50000)\n",
    "pd.set_option('display.max_rows', 100000)\n",
    "pd.options.display.max_colwidth = 500"
   ]
  },
  {
   "cell_type": "markdown",
   "metadata": {},
   "source": [
    "### Read Vectorized data "
   ]
  },
  {
   "cell_type": "code",
   "execution_count": 6,
   "metadata": {},
   "outputs": [],
   "source": [
    "data = pd.read_csv('../data/vectorized_data_tvec.csv', index_col=0)"
   ]
  },
  {
   "cell_type": "markdown",
   "metadata": {},
   "source": [
    "### Perform Train-Test split"
   ]
  },
  {
   "cell_type": "code",
   "execution_count": 7,
   "metadata": {},
   "outputs": [],
   "source": [
    "y = data['ata4_code']\n",
    "\n",
    "X = data.drop(columns='ata4_code')"
   ]
  },
  {
   "cell_type": "code",
   "execution_count": 8,
   "metadata": {},
   "outputs": [],
   "source": [
    "# One hot code target and can only run it once\n",
    "y = to_categorical(y) "
   ]
  },
  {
   "cell_type": "code",
   "execution_count": 9,
   "metadata": {},
   "outputs": [],
   "source": [
    "# Perform train test split\n",
    "X_train, X_test, y_train, y_test = train_test_split(X, y)"
   ]
  },
  {
   "cell_type": "markdown",
   "metadata": {},
   "source": [
    "### Keras Feed Forward Neural Network"
   ]
  },
  {
   "cell_type": "code",
   "execution_count": 10,
   "metadata": {},
   "outputs": [
    {
     "data": {
      "text/plain": [
       "(10062,)"
      ]
     },
     "execution_count": 10,
     "metadata": {},
     "output_type": "execute_result"
    }
   ],
   "source": [
    "data['ata4_code'].shape"
   ]
  },
  {
   "cell_type": "code",
   "execution_count": 11,
   "metadata": {},
   "outputs": [
    {
     "data": {
      "text/plain": [
       "(7546, 10031)"
      ]
     },
     "execution_count": 11,
     "metadata": {},
     "output_type": "execute_result"
    }
   ],
   "source": [
    "X_train.shape"
   ]
  },
  {
   "cell_type": "code",
   "execution_count": 12,
   "metadata": {},
   "outputs": [
    {
     "name": "stdout",
     "output_type": "stream",
     "text": [
      "WARNING:tensorflow:From /anaconda3/envs/tensorflow_p36/lib/python3.6/site-packages/tensorflow/python/framework/op_def_library.py:263: colocate_with (from tensorflow.python.framework.ops) is deprecated and will be removed in a future version.\n",
      "Instructions for updating:\n",
      "Colocations handled automatically by placer.\n"
     ]
    }
   ],
   "source": [
    "# Create a neural network\n",
    "model = Sequential()\n",
    "\n",
    "# Input layer\n",
    "model.add(Dense(4096,\n",
    "               activation='relu',\n",
    "               input_shape=(X_train.shape[1],),\n",
    "            kernel_regularizer=regularizers.l2(0.01)))\n",
    "\n",
    "# Add 1st dense layer\n",
    "model.add(Dense(8192, activation='relu', kernel_regularizer=regularizers.l2(0.01)))\n",
    "\n",
    "# Add 2nd dense layer\n",
    "model.add(Dense(4096, activation='relu', kernel_regularizer=regularizers.l2(0.01)))\n",
    "\n",
    "# Add output layer\n",
    "model.add(Dense(y.shape[1], # one neuron per class - so 10 neurons\n",
    "               activation='softmax')) # always use softmax for multi class"
   ]
  },
  {
   "cell_type": "code",
   "execution_count": 13,
   "metadata": {},
   "outputs": [],
   "source": [
    "# compile the model\n",
    "model.compile(loss='categorical_crossentropy',\n",
    "                  optimizer='adam',\n",
    "                  metrics=['accuracy'])"
   ]
  },
  {
   "cell_type": "code",
   "execution_count": 14,
   "metadata": {},
   "outputs": [
    {
     "name": "stdout",
     "output_type": "stream",
     "text": [
      "WARNING:tensorflow:From /anaconda3/envs/tensorflow_p36/lib/python3.6/site-packages/tensorflow/python/ops/math_ops.py:3066: to_int32 (from tensorflow.python.ops.math_ops) is deprecated and will be removed in a future version.\n",
      "Instructions for updating:\n",
      "Use tf.cast instead.\n",
      "Train on 7546 samples, validate on 2516 samples\n",
      "Epoch 1/16\n",
      "7546/7546 [==============================] - 74s 10ms/step - loss: 119.7274 - acc: 0.7352 - val_loss: 58.8210 - val_acc: 0.8434\n",
      "Epoch 2/16\n",
      "7546/7546 [==============================] - 46s 6ms/step - loss: 43.2661 - acc: 0.5318 - val_loss: 19.5271 - val_acc: 0.8434\n",
      "Epoch 3/16\n",
      "7546/7546 [==============================] - 48s 6ms/step - loss: 14.8983 - acc: 0.8525 - val_loss: 11.1037 - val_acc: 0.8434\n",
      "Epoch 4/16\n",
      "7546/7546 [==============================] - 46s 6ms/step - loss: 9.7601 - acc: 0.8524 - val_loss: 8.6302 - val_acc: 0.8434\n",
      "Epoch 5/16\n",
      "7546/7546 [==============================] - 47s 6ms/step - loss: 8.1241 - acc: 0.7430 - val_loss: 6.3301 - val_acc: 0.8434\n",
      "Epoch 6/16\n",
      "7546/7546 [==============================] - 43s 6ms/step - loss: 5.5474 - acc: 0.7477 - val_loss: 4.9595 - val_acc: 0.8434\n",
      "Epoch 7/16\n",
      "7546/7546 [==============================] - 51s 7ms/step - loss: 4.5027 - acc: 0.8525 - val_loss: 3.9462 - val_acc: 0.8434\n",
      "Epoch 8/16\n",
      "7546/7546 [==============================] - 58s 8ms/step - loss: 3.4495 - acc: 0.8382 - val_loss: 2.8441 - val_acc: 0.8434\n",
      "Epoch 9/16\n",
      "7546/7546 [==============================] - 58s 8ms/step - loss: 2.5030 - acc: 0.8525 - val_loss: 2.1788 - val_acc: 0.8434\n",
      "Epoch 10/16\n",
      "7546/7546 [==============================] - 54s 7ms/step - loss: 1.9282 - acc: 0.8525 - val_loss: 1.6968 - val_acc: 0.8434\n",
      "Epoch 11/16\n",
      "7546/7546 [==============================] - 56s 7ms/step - loss: 1.5270 - acc: 0.8525 - val_loss: 1.4056 - val_acc: 0.8434\n",
      "Epoch 12/16\n",
      "7546/7546 [==============================] - 53s 7ms/step - loss: 1.2771 - acc: 0.8525 - val_loss: 1.2115 - val_acc: 0.8434\n",
      "Epoch 13/16\n",
      "7546/7546 [==============================] - 66s 9ms/step - loss: 1.1110 - acc: 0.8525 - val_loss: 1.0700 - val_acc: 0.8434\n",
      "Epoch 14/16\n",
      "7546/7546 [==============================] - 83s 11ms/step - loss: 0.9893 - acc: 0.8525 - val_loss: 0.9805 - val_acc: 0.8434\n",
      "Epoch 15/16\n",
      "7546/7546 [==============================] - 92s 12ms/step - loss: 0.9105 - acc: 0.8525 - val_loss: 0.9081 - val_acc: 0.8434\n",
      "Epoch 16/16\n",
      "7546/7546 [==============================] - 94s 12ms/step - loss: 0.8482 - acc: 0.8525 - val_loss: 0.8537 - val_acc: 0.8434\n"
     ]
    }
   ],
   "source": [
    "# fit the model\n",
    "history = model.fit(X_train, y_train,\n",
    "          epochs=16, \n",
    "          batch_size=1024, \n",
    "          validation_data=(X_test, y_test),\n",
    "          verbose=1) "
   ]
  },
  {
   "cell_type": "code",
   "execution_count": 15,
   "metadata": {},
   "outputs": [
    {
     "data": {
      "image/png": "[encoded data removed]",
      "text/plain": [
       "<Figure size 864x576 with 1 Axes>"
      ]
     },
     "metadata": {
      "needs_background": "light"
     },
     "output_type": "display_data"
    }
   ],
   "source": [
    "# Check out our train loss and test loss over epochs.\n",
    "train_loss = history.history['loss']\n",
    "test_loss = history.history['val_loss']\n",
    "\n",
    "# Set figure size.\n",
    "plt.figure(figsize=(12, 8))\n",
    "\n",
    "# Generate line plot of training, testing loss over epochs.\n",
    "plt.plot(train_loss, label='Training Loss', color='#185fad')\n",
    "plt.plot(test_loss, label='Testing Loss', color='orange')\n",
    "\n",
    "# Set title\n",
    "plt.title('Training and Testing Loss by Epoch', fontsize = 25)\n",
    "plt.xlabel('Epoch', fontsize = 18)\n",
    "plt.ylabel('Categorical Crossentropy', fontsize = 18)\n",
    "plt.xticks([0, 1, 2, 3, 4, 5, 6, 7])\n",
    "\n",
    "plt.legend(fontsize = 18);"
   ]
  },
  {
   "cell_type": "code",
   "execution_count": 16,
   "metadata": {},
   "outputs": [
    {
     "name": "stdout",
     "output_type": "stream",
     "text": [
      "2516/2516 [==============================] - 23s 9ms/step\n"
     ]
    }
   ],
   "source": [
    "# Evaluate model on test data.\n",
    "ffnn_score = model.evaluate(X_test,\n",
    "                       y_test,\n",
    "                       verbose=1)\n",
    "\n",
    "ffnn_labels = model.metrics_names"
   ]
  },
  {
   "cell_type": "code",
   "execution_count": 17,
   "metadata": {},
   "outputs": [
    {
     "name": "stdout",
     "output_type": "stream",
     "text": [
      "FFNN loss  : 0.8537421988379595\n",
      "FFNN acc  : 0.8434022257551669\n",
      "\n",
      "_________________________________________________________________\n",
      "Layer (type)                 Output Shape              Param #   \n",
      "=================================================================\n",
      "dense_1 (Dense)              (None, 4096)              41091072  \n",
      "_________________________________________________________________\n",
      "dense_2 (Dense)              (None, 8192)              33562624  \n",
      "_________________________________________________________________\n",
      "dense_3 (Dense)              (None, 4096)              33558528  \n",
      "_________________________________________________________________\n",
      "dense_4 (Dense)              (None, 2571)              10533387  \n",
      "=================================================================\n",
      "Total params: 118,745,611\n",
      "Trainable params: 118,745,611\n",
      "Non-trainable params: 0\n",
      "_________________________________________________________________\n"
     ]
    }
   ],
   "source": [
    "# Look at model performance\n",
    "print(f'FFNN {ffnn_labels[0]}  : {ffnn_score[0]}')\n",
    "print(f'FFNN {ffnn_labels[1]}  : {ffnn_score[1]}')\n",
    "print()\n",
    "\n",
    "model.summary()"
   ]
  },
  {
   "cell_type": "code",
   "execution_count": null,
   "metadata": {},
   "outputs": [],
   "source": []
  }
 ],
 "metadata": {
  "kernelspec": {
   "display_name": "TensorFlow-py3.6",
   "language": "python",
   "name": "tensorflow_p36"
  },
  "language_info": {
   "codemirror_mode": {
    "name": "ipython",
    "version": 3
   },
   "file_extension": ".py",
   "mimetype": "text/x-python",
   "name": "python",
   "nbconvert_exporter": "python",
   "pygments_lexer": "ipython3",
   "version": "3.6.8"
  }
 },
 "nbformat": 4,
 "nbformat_minor": 2
}
