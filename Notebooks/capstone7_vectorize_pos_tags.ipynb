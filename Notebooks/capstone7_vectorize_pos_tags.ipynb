{
 "cells": [
  {
   "cell_type": "markdown",
   "metadata": {},
   "source": [
    "### Prep Work"
   ]
  },
  {
   "cell_type": "code",
   "execution_count": 1,
   "metadata": {},
   "outputs": [],
   "source": [
    "# Import general libraries\n",
    "import pandas as pd\n",
    "import numpy as np\n",
    "\n",
    "import datetime\n",
    "import warnings; warnings.simplefilter('ignore')\n",
    "\n",
    "np.random.seed(42)"
   ]
  },
  {
   "cell_type": "code",
   "execution_count": 2,
   "metadata": {},
   "outputs": [],
   "source": [
    "# Import NLP libraries\n",
    "from sklearn.feature_extraction.text import CountVectorizer, TfidfVectorizer\n",
    "from sklearn.metrics.pairwise import cosine_similarity\n",
    "\n",
    "import spacy\n",
    "from spacy import displacy\n",
    "import en_core_web_sm"
   ]
  },
  {
   "cell_type": "code",
   "execution_count": 3,
   "metadata": {},
   "outputs": [],
   "source": [
    "# Increase size of dataframe\n",
    "pd.set_option('display.max_columns', 50000)\n",
    "pd.set_option('display.max_rows', 100000)\n",
    "pd.options.display.max_colwidth = 500"
   ]
  },
  {
   "cell_type": "code",
   "execution_count": 8,
   "metadata": {},
   "outputs": [],
   "source": [
    "# Read processed data\n",
    "data = pd.read_csv('./data/processed_data_new.csv', index_col=0)"
   ]
  },
  {
   "cell_type": "markdown",
   "metadata": {},
   "source": [
    "### Predict action for a specific log"
   ]
  },
  {
   "cell_type": "code",
   "execution_count": 21,
   "metadata": {
    "scrolled": true
   },
   "outputs": [],
   "source": [
    "# new_problem_log = ['COFFEE MAKER 420 WILL NOT SHUTOFF.']\n",
    "# new_problem_log = ['SEAT 30C NEEDS NEW SEAT CUSHION COVER']\n",
    "# new_problem_log = ['22DEC BZN DF -Q : CREW REPORT: SEATBELT AT 34E IS COVERED WITH BABY VOMIT SAMC TEXT: W.O. 15122224']\n",
    "# new_problem_log = ['AFT GALLEY COFFEE MAKER LEAKING.ENTERED INTO SCEPTRE FOR EMPLOYEE #0080038.']\n",
    "# new_problem_log = ['REMOVE AND REINSTALL JACKSCREW RAIL AND SI DE RAILS REMOVED FOR DRAINMAST INSTALLATION. BY- 087562']\n",
    "# new_problem_log = ['SEAT CUSHION 12B NEEDS TO BE REPLACED . LOG ENTERED BY G024193, SCEPTRE COMPUTER INDICATES EMPLOYEE NUMBER IS INVALID.\tREPLACED CUSHION AND COVER']\n",
    "# new_problem_log = ['SEAT 27C NEEDS NEW SEAT CUSHION COVER']\n",
    "# new_problem_log = ['FIRST OFFICERS OXYGEN MASK HARNESS WILL NOT INFLATE']\n",
    "new_problem_log = ['COFFEE MAKER 812 FLOWING CONSTANTLY']\n",
    "\n"
   ]
  },
  {
   "cell_type": "markdown",
   "metadata": {},
   "source": [
    "#### Calculate cosine similarity from tfidf vectors, identify Nouns and Verbs"
   ]
  },
  {
   "cell_type": "code",
   "execution_count": 22,
   "metadata": {},
   "outputs": [
    {
     "name": "stdout",
     "output_type": "stream",
     "text": [
      "New Problem Log: ['COFFEE MAKER 812 FLOWING CONSTANTLY']\n",
      "------------------------------------------------------------\n",
      "Cosine Similarity: 0.8535481794960198\n",
      "------------------------------------------------------------\n",
      "Matching Problem Log: fwd coffee maker will not stop brewing water is constantly coming out\n",
      "------------------------------------------------------------\n",
      "Matching Corrective Action: removed and replaced coffeemaker at position ops check normalrotable parts change was indicated tt sn off coffeemaker in off on \n",
      "------------------------------------------------------------\n",
      "Noun phrases:, ['fwd coffee maker', 'water']\n",
      "Verb phrases:, ['remove', 'replace', 'check', 'be', 'indicate']\n",
      "------------------------------------------------------------\n",
      "Predictive Corrective Action: ['remove', 'replace', 'check', 'be', 'indicate', 'fwd coffee maker', 'water']\n"
     ]
    }
   ],
   "source": [
    "# Print new problem log\n",
    "print(f\"New Problem Log: {new_problem_log}\")\n",
    "print(\"-\" * 60)\n",
    "\n",
    "#Instantiate TFIDFVectorizer\n",
    "tf_log = TfidfVectorizer(ngram_range=(2,8), analyzer='char_wb')\n",
    "\n",
    "# Fit the model\n",
    "tf_fit = tf_log.fit_transform(new_problem_log)\n",
    "tf_logs = tf_log.transform(data['problem_log'])\n",
    "\n",
    "# Create a Dataframe containing cosine similarities\n",
    "matching_logs = pd.DataFrame(cosine_similarity(tf_fit, tf_logs),\n",
    "                             columns=data['problem_log' ]).T\n",
    "matching_logs.columns=['cos_similarity']\n",
    "\n",
    "# Merge with the original dataframe\n",
    "matching_logs = pd.merge(matching_logs,data[['problem_log','corrective_action']],on='problem_log', how='left')\n",
    "\n",
    "# Sort matching logs to find highest cosine similarity\n",
    "matching_logs.sort_values(by='cos_similarity', ascending=False, inplace=True)\n",
    "\n",
    "# Reset index of matching_logs dataframe\n",
    "matching_logs = matching_logs.reset_index(drop=True)\n",
    "\n",
    "# cos_similarity = matching_logs['cos_similarity'].nlargest(2).iloc[-1]\n",
    "print(f\"Cosine Similarity: {matching_logs['cos_similarity'].nlargest(2).iloc[-1]}\")\n",
    "print(\"-\" * 60)\n",
    "\n",
    "# Find problem log for highest cosine similarity\n",
    "matching_problem_log = matching_logs['problem_log'][1]\n",
    "print(f\"Matching Problem Log: {matching_problem_log}\")\n",
    "print(\"-\" * 60)\n",
    "\n",
    "# Find corrective action for highest cosine similarity\n",
    "matching_corrective_action = matching_logs['corrective_action'][1]\n",
    "print(f\"Matching Corrective Action: {matching_corrective_action}\")\n",
    "print(\"-\" * 60)\n",
    "\n",
    "#### Use spacy to find nouns and verbs\n",
    "\n",
    "nlp = en_core_web_sm.load()\n",
    "\n",
    "def find_noun(text):\n",
    "    doc = nlp(text)\n",
    "    nouns = [chunk.text for chunk in doc.noun_chunks]\n",
    "    print(f\"Noun phrases:, {nouns}\")\n",
    "    return nouns\n",
    "\n",
    "def find_verb(text):\n",
    "    doc = nlp(text)\n",
    "    verbs = [token.lemma_ for token in doc if token.pos_ == \"VERB\"]\n",
    "    print(f\"Verb phrases:, {verbs}\")\n",
    "    return verbs\n",
    "\n",
    "# Find nouns for matching problem log\n",
    "nouns = find_noun(matching_problem_log)\n",
    "\n",
    "# Find nouns for matching corrective action\n",
    "verbs = find_verb(matching_corrective_action)\n",
    "\n",
    "predictive_action = verbs + nouns\n",
    "print(\"-\" * 60)\n",
    "print(f\"Predictive Corrective Action: {predictive_action}\")"
   ]
  },
  {
   "cell_type": "code",
   "execution_count": 23,
   "metadata": {},
   "outputs": [
    {
     "data": {
      "text/plain": [
       "['remove', 'replace', 'check', 'be', 'indicate', 'fwd coffee maker', 'water']"
      ]
     },
     "execution_count": 23,
     "metadata": {},
     "output_type": "execute_result"
    }
   ],
   "source": [
    "predictive_action"
   ]
  },
  {
   "cell_type": "code",
   "execution_count": null,
   "metadata": {},
   "outputs": [],
   "source": []
  },
  {
   "cell_type": "code",
   "execution_count": null,
   "metadata": {},
   "outputs": [],
   "source": []
  },
  {
   "cell_type": "code",
   "execution_count": null,
   "metadata": {},
   "outputs": [],
   "source": []
  }
 ],
 "metadata": {
  "kernelspec": {
   "display_name": "Python 3",
   "language": "python",
   "name": "python3"
  },
  "language_info": {
   "codemirror_mode": {
    "name": "ipython",
    "version": 3
   },
   "file_extension": ".py",
   "mimetype": "text/x-python",
   "name": "python",
   "nbconvert_exporter": "python",
   "pygments_lexer": "ipython3",
   "version": "3.7.1"
  }
 },
 "nbformat": 4,
 "nbformat_minor": 2
}
